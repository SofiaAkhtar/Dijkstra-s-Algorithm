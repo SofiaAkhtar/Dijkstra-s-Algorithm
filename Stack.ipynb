{
  "nbformat": 4,
  "nbformat_minor": 0,
  "metadata": {
    "colab": {
      "provenance": [],
      "authorship_tag": "ABX9TyNgVA8bSHMewYaIwfmSk07H",
      "include_colab_link": true
    },
    "kernelspec": {
      "name": "python3",
      "display_name": "Python 3"
    },
    "language_info": {
      "name": "python"
    }
  },
  "cells": [
    {
      "cell_type": "markdown",
      "metadata": {
        "id": "view-in-github",
        "colab_type": "text"
      },
      "source": [
        "<a href=\"https://colab.research.google.com/github/SofiaAkhtar/Dijkstra-s-Algorithm/blob/main/Stack.ipynb\" target=\"_parent\"><img src=\"https://colab.research.google.com/assets/colab-badge.svg\" alt=\"Open In Colab\"/></a>"
      ]
    },
    {
      "cell_type": "markdown",
      "source": [
        "Write a function in python that can reverse a string using stack data structure. Use Stack class from the tutorial.\n",
        "reverse_string(\"We will conquere COVID-19\") should return \"91-DIVOC ereuqnoc lliw eW\"\n"
      ],
      "metadata": {
        "id": "hdw0Yfp5CKjy"
      }
    },
    {
      "cell_type": "code",
      "source": [
        "from collections import deque\n",
        "Stack = deque()"
      ],
      "metadata": {
        "id": "GXwmK9cqDtsr"
      },
      "execution_count": null,
      "outputs": []
    },
    {
      "cell_type": "code",
      "source": [
        "class Stack:\n",
        "    def __init__(self):\n",
        "        self.container = deque()\n",
        "    def push(self,val):\n",
        "        self.container.append(val)\n",
        "    def pop(self):\n",
        "        self.container.pop()\n",
        "    def peek(self):\n",
        "        return self.container[-1]\n",
        "    def is_empty(self):\n",
        "        return len(self.container) == 0\n",
        "    def size(self):\n",
        "        return len(self.container)\n",
        "\n"
      ],
      "metadata": {
        "id": "7FuI4-veCQex"
      },
      "execution_count": null,
      "outputs": []
    },
    {
      "cell_type": "code",
      "source": [
        "s = Stack()\n",
        "s.push(10)\n",
        "s.push(16)\n",
        "s.peek()\n",
        "s.pop()\n",
        "s.peek()"
      ],
      "metadata": {
        "colab": {
          "base_uri": "https://localhost:8080/"
        },
        "id": "VfWYRv35DYhP",
        "outputId": "b5ec7fc5-701d-4afa-f58d-f0ec95a767e4"
      },
      "execution_count": null,
      "outputs": [
        {
          "output_type": "execute_result",
          "data": {
            "text/plain": [
              "10"
            ]
          },
          "metadata": {},
          "execution_count": 6
        }
      ]
    },
    {
      "cell_type": "code",
      "source": [
        "reverse_string(\"We will conquere COVID-19\")"
      ],
      "metadata": {
        "id": "PAXFQna5FXTv"
      },
      "execution_count": null,
      "outputs": []
    },
    {
      "cell_type": "code",
      "source": [],
      "metadata": {
        "id": "Y60sAzNDFYJ_"
      },
      "execution_count": null,
      "outputs": []
    },
    {
      "cell_type": "code",
      "source": [
        "class Stack:\n",
        "    def __init__(self):\n",
        "        self.container = deque()\n",
        "\n",
        "    def push(self, val):\n",
        "        self.container.append(val)\n",
        "\n",
        "    def pop(self):\n",
        "        return self.container.pop()\n",
        "\n",
        "    def peek(self):\n",
        "        return self.container[-1]\n",
        "\n",
        "    def is_empty(self):\n",
        "        return len(self.container) == 0\n",
        "\n",
        "    def size(self):\n",
        "        return len(self.container)\n",
        "\n",
        "def reverse_string(s):\n",
        "    stack = Stack()\n",
        "\n",
        "    for ch in s:\n",
        "        stack.push(ch)\n",
        "\n",
        "    rstr = ''\n",
        "    while not stack.is_empty():\n",
        "        rstr += stack.pop()\n",
        "\n",
        "    return rstr\n",
        "\n",
        "if __name__ == '__main__':\n",
        "    print(reverse_string(\"We will conquere COVI-19\"))\n",
        "    print(reverse_string(\"I am the king\"))\n"
      ],
      "metadata": {
        "colab": {
          "base_uri": "https://localhost:8080/"
        },
        "id": "gy7bqbblsQlM",
        "outputId": "9b94978b-3359-40f1-a691-7d367532356a"
      },
      "execution_count": null,
      "outputs": [
        {
          "output_type": "stream",
          "name": "stdout",
          "text": [
            "91-IVOC ereuqnoc lliw eW\n",
            "gnik eht ma I\n"
          ]
        }
      ]
    },
    {
      "cell_type": "markdown",
      "source": [
        "Write a function in python that checks if paranthesis in the string are balanced or not. Possible parantheses are \"{}',\"()\" or \"[]\". Use Stack class from the tutorial.\n",
        "is_balanced(\"({a+b})\")     --> True\n",
        "is_balanced(\"))((a+b}{\")   --> False\n",
        "is_balanced(\"((a+b))\")     --> True\n",
        "is_balanced(\"))\")          --> False\n",
        "is_balanced(\"[a+b]*(x+2y)*{gg+kk}\") --> True"
      ],
      "metadata": {
        "id": "kwZvkHsuspkc"
      }
    },
    {
      "cell_type": "code",
      "source": [
        "class Stack:\n",
        "    def __init__(self):\n",
        "        self.container = deque()\n",
        "    def push(self,val):\n",
        "        self.container.append(val)\n",
        "    def pop(self):\n",
        "        self.container.pop()\n",
        "    def size(self):\n",
        "        return len(self.container)\n",
        "    def is_empty(self):\n",
        "        return len(self.container) == 0\n",
        "    def peek(self):\n",
        "        return self.container[-1]\n",
        "def is_balanced(s):\n",
        "    stack = Stack()\n",
        "    count = 0\n",
        "    for ch in s:\n",
        "        stack.push(ch)\n",
        "    for ch in stack.container:\n",
        "        if ch in ['[', ']', '{', '}', '(', ')']:\n",
        "            count += 1\n",
        "    return count % 2 == 0"
      ],
      "metadata": {
        "id": "1DUWF1EWtAUU"
      },
      "execution_count": null,
      "outputs": []
    },
    {
      "cell_type": "code",
      "source": [
        "if __name__ =='main':\n",
        "    print(is_balanced('[a+b[cd{}]]'))\n"
      ],
      "metadata": {
        "id": "dZDGma8RuuYm"
      },
      "execution_count": null,
      "outputs": []
    },
    {
      "cell_type": "code",
      "source": [
        "from collections import deque\n",
        "\n",
        "class Stack:\n",
        "    def __init__(self):\n",
        "        self.container = deque()\n",
        "\n",
        "    def push(self, val):\n",
        "        self.container.append(val)\n",
        "\n",
        "    def pop(self):\n",
        "        return self.container.pop()\n",
        "\n",
        "    def size(self):\n",
        "        return len(self.container)\n",
        "\n",
        "    def is_empty(self):\n",
        "        return len(self.container) == 0\n",
        "\n",
        "    def peek(self):\n",
        "        return self.container[-1]\n",
        "\n",
        "def is_balanced(s):\n",
        "    stack = Stack()\n",
        "    opening_brackets = \"({[\"\n",
        "    closing_brackets = \")}]\"\n",
        "\n",
        "    for ch in s:\n",
        "        if ch in opening_brackets:\n",
        "            stack.push(ch)\n",
        "        elif ch in closing_brackets:\n",
        "            if stack.is_empty() or closing_brackets.index(ch) != opening_brackets.index(stack.pop()):\n",
        "                return False\n",
        "\n",
        "    return stack.is_empty()\n",
        "\n",
        "# Examples\n",
        "print(is_balanced(\"({})[()]\"))  # Should return True\n",
        "print(is_balanced(\"({[}])\"))    # Should return False\n"
      ],
      "metadata": {
        "id": "Gl5G-bR4v6A5",
        "colab": {
          "base_uri": "https://localhost:8080/"
        },
        "outputId": "f06d7fde-59b7-46e0-9fe6-225523048566"
      },
      "execution_count": 1,
      "outputs": [
        {
          "output_type": "stream",
          "name": "stdout",
          "text": [
            "True\n",
            "False\n"
          ]
        }
      ]
    },
    {
      "cell_type": "code",
      "source": [
        "print(is_balanced(\"({})[()]\"))  # Should return True\n",
        "print(is_balanced(\"({[}])\"))    # Should return False\n"
      ],
      "metadata": {
        "colab": {
          "base_uri": "https://localhost:8080/"
        },
        "id": "eKW5QuGBv89m",
        "outputId": "4bcf441e-4460-4644-b901-ad524798c0c1"
      },
      "execution_count": 2,
      "outputs": [
        {
          "output_type": "stream",
          "name": "stdout",
          "text": [
            "True\n",
            "False\n"
          ]
        }
      ]
    }
  ]
}