{
  "nbformat": 4,
  "nbformat_minor": 0,
  "metadata": {
    "colab": {
      "provenance": [],
      "include_colab_link": true
    },
    "kernelspec": {
      "name": "python3",
      "display_name": "Python 3"
    },
    "language_info": {
      "name": "python"
    }
  },
  "cells": [
    {
      "cell_type": "markdown",
      "metadata": {
        "id": "view-in-github",
        "colab_type": "text"
      },
      "source": [
        "<a href=\"https://colab.research.google.com/github/SofiaAkhtar/Dijkstra-s-Algorithm/blob/main/Shortest_Path_%7C_Dijkstra's_Algorithm_.ipynb\" target=\"_parent\"><img src=\"https://colab.research.google.com/assets/colab-badge.svg\" alt=\"Open In Colab\"/></a>"
      ]
    },
    {
      "cell_type": "markdown",
      "source": [
        "#Dijkstra's Algorithm | Shortest Path"
      ],
      "metadata": {
        "id": "Af3Etz-4AVzK"
      }
    },
    {
      "cell_type": "code",
      "source": [
        "from queue import PriorityQueue\n",
        "\n",
        "class Graph:\n",
        "    def __init__(self, num_of_vertices):\n",
        "        self.v = num_of_vertices\n",
        "        self.edges = [[-1 for i in range(num_of_vertices)] for j in range(num_of_vertices)]\n",
        "        self.visited = []\n",
        "\n",
        "\n",
        "    def add_edge(self, u, v, weight):\n",
        "        self.edges[u][v] = weight\n",
        "        self.edges[v][u] = weight"
      ],
      "metadata": {
        "id": "xXMk31aDIQwX"
      },
      "execution_count": null,
      "outputs": []
    },
    {
      "cell_type": "code",
      "source": [
        "def dijkstra(graph, start_vertex):\n",
        "    D = {v:float('inf') for v in range(graph.v)}\n",
        "    D[start_vertex] = 0\n",
        "\n",
        "    pq = PriorityQueue()\n",
        "    pq.put((0, start_vertex))\n",
        "\n",
        "    while not pq.empty():\n",
        "        (dist, current_vertex) = pq.get()\n",
        "        graph.visited.append(current_vertex)\n",
        "\n",
        "        for neighbor in range(graph.v):\n",
        "            if graph.edges[current_vertex][neighbor] != -1:\n",
        "                distance = graph.edges[current_vertex][neighbor]\n",
        "                if neighbor not in graph.visited:\n",
        "                    old_cost = D[neighbor]\n",
        "                    new_cost = D[current_vertex] + distance\n",
        "                    if new_cost < old_cost:\n",
        "                        pq.put((new_cost, neighbor))\n",
        "                        D[neighbor] = new_cost\n",
        "    return D"
      ],
      "metadata": {
        "id": "ot2rYT3JS8Cq"
      },
      "execution_count": null,
      "outputs": []
    },
    {
      "cell_type": "code",
      "source": [
        "g = Graph(9)\n",
        "g.add_edge(0, 1, 4)\n",
        "g.add_edge(0, 6, 7)\n",
        "g.add_edge(1, 6, 11)\n",
        "g.add_edge(1, 7, 20)\n",
        "g.add_edge(1, 2, 9)\n",
        "g.add_edge(2, 3, 6)\n",
        "g.add_edge(2, 4, 2)\n",
        "g.add_edge(3, 4, 10)\n",
        "g.add_edge(3, 5, 5)\n",
        "g.add_edge(4, 5, 15)\n",
        "g.add_edge(4, 7, 1)\n",
        "g.add_edge(4, 8, 5)\n",
        "g.add_edge(5, 8, 12)\n",
        "g.add_edge(6, 7, 1)\n",
        "g.add_edge(7, 8, 3)\n",
        "\n",
        "\n",
        "#function call\n",
        "D = dijkstra(g, 0)\n",
        "print(D)"
      ],
      "metadata": {
        "colab": {
          "base_uri": "https://localhost:8080/"
        },
        "id": "2Ula06tGSfUq",
        "outputId": "52eaaf39-1bfb-4347-eafb-bd279eed2f17"
      },
      "execution_count": null,
      "outputs": [
        {
          "output_type": "stream",
          "name": "stdout",
          "text": [
            "{0: 0, 1: 4, 2: 11, 3: 17, 4: 9, 5: 22, 6: 7, 7: 8, 8: 11}\n"
          ]
        }
      ]
    },
    {
      "cell_type": "code",
      "source": [],
      "metadata": {
        "id": "4MqK4THOTFdH"
      },
      "execution_count": null,
      "outputs": []
    }
  ]
}